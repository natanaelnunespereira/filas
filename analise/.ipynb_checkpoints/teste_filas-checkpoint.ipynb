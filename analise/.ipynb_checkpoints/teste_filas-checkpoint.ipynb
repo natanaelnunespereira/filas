{
 "cells": [
  {
   "cell_type": "code",
   "execution_count": 1,
   "id": "064987f9",
   "metadata": {},
   "outputs": [],
   "source": [
    "using Filas"
   ]
  },
  {
   "cell_type": "code",
   "execution_count": 2,
   "id": "94aba2f0",
   "metadata": {},
   "outputs": [],
   "source": [
    "# Criação das pessoas(população).\n",
    "p1 =  Pessoa(1)\n",
    "p2 =  Pessoa(2)\n",
    "p3 =  Pessoa(3)\n",
    "p4 =  Pessoa(4)\n",
    "p5 =  Pessoa(5)\n",
    "p6 =  Pessoa(6)\n",
    "p7 =  Pessoa(7)\n",
    "p8 =  Pessoa(8)\n",
    "p9 =  Pessoa(9)\n",
    "p10 =  Pessoa(10)\n",
    "p11 =  Pessoa(11)\n",
    "p12 =  Pessoa(12);"
   ]
  },
  {
   "cell_type": "code",
   "execution_count": 3,
   "id": "6ad1ea36",
   "metadata": {},
   "outputs": [],
   "source": [
    "# Criação dos clientes.\n",
    "c1 = Cliente(p1)\n",
    "c2 = Cliente(p2)\n",
    "c3 = Cliente(p3)\n",
    "c4 = Cliente(p4)\n",
    "c5 = Cliente(p5)\n",
    "c6 = Cliente(p6)\n",
    "c7 = Cliente(p7)\n",
    "c8 = Cliente(p8)\n",
    "c9 = Cliente(p9)\n",
    "c10 = Cliente(p10)\n",
    "c11 = Cliente(p11)\n",
    "c12 = Cliente(p12);"
   ]
  },
  {
   "cell_type": "code",
   "execution_count": 4,
   "id": "1826bb77",
   "metadata": {},
   "outputs": [],
   "source": [
    "# Criação da fila.\n",
    "fila1 = Fila();"
   ]
  },
  {
   "cell_type": "code",
   "execution_count": 5,
   "id": "c002c2e8",
   "metadata": {},
   "outputs": [],
   "source": [
    "# Inserção dos clientes na fila.\n",
    "inserirCliente(fila1, c1, 2.0, 1.0)\n",
    "inserirCliente(fila1, c2, 3.0, 2.0)\n",
    "inserirCliente(fila1, c3, 3.0, 1.0)\n",
    "inserirCliente(fila1, c4, 3.0, 1.0)\n",
    "inserirCliente(fila1, c5, 5.0, 3.0)\n",
    "inserirCliente(fila1, c6, 0.0, 2.0)\n",
    "inserirCliente(fila1, c7, 1.0, 1.0)\n",
    "inserirCliente(fila1, c8, 5.0, 4.0)\n",
    "inserirCliente(fila1, c9, 1.0, 2.0)\n",
    "inserirCliente(fila1, c10, 4.0, 3.0)\n",
    "inserirCliente(fila1, c11, 1.0, 1.0)\n",
    "inserirCliente(fila1, c12, 2.0, 3.0);"
   ]
  },
  {
   "cell_type": "code",
   "execution_count": 6,
   "id": "5a9dfd10",
   "metadata": {},
   "outputs": [
    {
     "data": {
      "text/plain": [
       "30.0"
      ]
     },
     "execution_count": 6,
     "metadata": {},
     "output_type": "execute_result"
    }
   ],
   "source": [
    "# Calculo do intervalo (soma).\n",
    "i = calcularIntervalo(fila1)"
   ]
  },
  {
   "cell_type": "code",
   "execution_count": 7,
   "id": "08c437f4",
   "metadata": {},
   "outputs": [
    {
     "data": {
      "text/plain": [
       "24.0"
      ]
     },
     "execution_count": 7,
     "metadata": {},
     "output_type": "execute_result"
    }
   ],
   "source": [
    "# Calculo da duração (soma).\n",
    "d = calcularDuracao(fila1)"
   ]
  },
  {
   "cell_type": "code",
   "execution_count": 8,
   "id": "4728db5f",
   "metadata": {},
   "outputs": [
    {
     "name": "stdout",
     "output_type": "stream",
     "text": [
      "Chegada de 0.4 Clientes por minuto."
     ]
    }
   ],
   "source": [
    "# Calculo do tempo de chegadas de clientes em minutos.\n",
    "t = processoChegada(fila1);\n",
    "print(\"Chegada de \", t, \" Clientes por minuto.\")"
   ]
  },
  {
   "cell_type": "code",
   "execution_count": 9,
   "id": "d0a12153",
   "metadata": {},
   "outputs": [
    {
     "name": "stdout",
     "output_type": "stream",
     "text": [
      "O intervalo médio de chegada é de 150.0 segundos por cliente."
     ]
    }
   ],
   "source": [
    "# Calculo do tempo de chegadas de clientes em segundos.\n",
    "s = calcularChegadaSegundos(t);\n",
    "print(\"O intervalo médio de chegada é de \", s, \" segundos por cliente.\")"
   ]
  },
  {
   "cell_type": "code",
   "execution_count": 10,
   "id": "7f705cbd",
   "metadata": {},
   "outputs": [
    {
     "name": "stdout",
     "output_type": "stream",
     "text": [
      "Atendimento de 0.5 Clientes por minuto."
     ]
    }
   ],
   "source": [
    "# Calculo do tempo de duração do atendimento de clientes em minutos.\n",
    "mediaAt = processoAtendimento(fila1);\n",
    "print(\"Atendimento de \", mediaAt, \" Clientes por minuto.\")"
   ]
  },
  {
   "cell_type": "code",
   "execution_count": 11,
   "id": "28c7be4e",
   "metadata": {},
   "outputs": [
    {
     "name": "stdout",
     "output_type": "stream",
     "text": [
      "O atendimento dura 120.0 segundos por cliente."
     ]
    }
   ],
   "source": [
    "# Calculo do tempo de duração do atendimento de clientes em segundos.\n",
    "mediaAtS = calcularAtendimentoSegundos(mediaAt);\n",
    "print(\"O atendimento dura \", mediaAtS, \" segundos por cliente.\")"
   ]
  },
  {
   "cell_type": "code",
   "execution_count": 12,
   "id": "edf37560",
   "metadata": {},
   "outputs": [
    {
     "name": "stdout",
     "output_type": "stream",
     "text": [
      "Clientes: 1, 2, 3, 4, 5, 6, 7, 8, 9, 10, 11, 12\n",
      "Intervalo: 2.0, 3.0, 3.0, 3.0, 5.0, 0.0, 1.0, 5.0, 1.0, 4.0, 1.0, 2.0\n",
      "Duracao: 1.0, 2.0, 1.0, 1.0, 3.0, 2.0, 1.0, 4.0, 2.0, 3.0, 1.0, 3.0\n",
      "Momento: 3.0, 6.0, 9.0, 12.0, 17.0, 17.0, 18.0, 23.0, 24.0, 28.0, 29.0, 31.0\n",
      "Inicio atendimento: 3.0, 6.0, 9.0, 12.0, 17.0, 20.0, 22.0, 23.0, 27.0, 29.0, 32.0, 33.0\n",
      "Fim atendimento: 4.0, 8.0, 10.0, 13.0, 20.0, 22.0, 23.0, 27.0, 29.0, 32.0, 33.0, 36.0\n",
      "Tempo medio na fila: 1.3333333333333333\n",
      "Numero medio na fila: 0.45714285714285713\n"
     ]
    }
   ],
   "source": [
    "# Dinamica de funcionamento da fila.\n",
    "dinamicaFuncionamento(fila1)"
   ]
  },
  {
   "cell_type": "code",
   "execution_count": 13,
   "id": "8f3337d3",
   "metadata": {},
   "outputs": [
    {
     "data": {
      "text/plain": [
       "1.3333333333333333"
      ]
     },
     "execution_count": 13,
     "metadata": {},
     "output_type": "execute_result"
    }
   ],
   "source": [
    "tempoMedioFila(fila1)"
   ]
  },
  {
   "cell_type": "code",
   "execution_count": 14,
   "id": "9dc77f39",
   "metadata": {},
   "outputs": [
    {
     "data": {
      "text/plain": [
       "0.45714285714285713"
      ]
     },
     "execution_count": 14,
     "metadata": {},
     "output_type": "execute_result"
    }
   ],
   "source": [
    "numeroMedioFila(fila1)"
   ]
  },
  {
   "cell_type": "code",
   "execution_count": 15,
   "id": "1347f0d0",
   "metadata": {},
   "outputs": [
    {
     "data": {
      "text/plain": [
       "12-element Vector{Any}:\n",
       " 0.0\n",
       " 0.0\n",
       " 0.0\n",
       " 0.0\n",
       " 0.0\n",
       " 3.0\n",
       " 4.0\n",
       " 0.0\n",
       " 3.0\n",
       " 1.0\n",
       " 3.0\n",
       " 2.0"
      ]
     },
     "execution_count": 15,
     "metadata": {},
     "output_type": "execute_result"
    }
   ],
   "source": [
    "tempoClientesFila(fila1)"
   ]
  },
  {
   "cell_type": "code",
   "execution_count": null,
   "id": "7661b34e",
   "metadata": {},
   "outputs": [],
   "source": []
  }
 ],
 "metadata": {
  "kernelspec": {
   "display_name": "Julia 1.7.2",
   "language": "julia",
   "name": "julia-1.7"
  },
  "language_info": {
   "file_extension": ".jl",
   "mimetype": "application/julia",
   "name": "julia",
   "version": "1.7.2"
  }
 },
 "nbformat": 4,
 "nbformat_minor": 5
}
